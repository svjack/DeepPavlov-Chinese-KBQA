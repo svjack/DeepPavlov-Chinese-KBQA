{
 "cells": [
  {
   "cell_type": "code",
   "execution_count": 1,
   "id": "c1a6164e",
   "metadata": {},
   "outputs": [
    {
     "name": "stderr",
     "output_type": "stream",
     "text": [
      "/Users/svjack/opt/anaconda3/lib/python3.8/site-packages/sklearn/utils/deprecation.py:144: FutureWarning: The sklearn.ensemble.bagging module is  deprecated in version 0.22 and will be removed in version 0.24. The corresponding classes / functions should instead be imported from sklearn.ensemble. Anything that cannot be imported from sklearn.ensemble is now part of the private API.\n",
      "  warnings.warn(message, FutureWarning)\n",
      "/Users/svjack/opt/anaconda3/lib/python3.8/site-packages/sklearn/utils/deprecation.py:144: FutureWarning: The sklearn.neural_network.multilayer_perceptron module is  deprecated in version 0.22 and will be removed in version 0.24. The corresponding classes / functions should instead be imported from sklearn.neural_network. Anything that cannot be imported from sklearn.neural_network is now part of the private API.\n",
      "  warnings.warn(message, FutureWarning)\n",
      "/Users/svjack/opt/anaconda3/lib/python3.8/site-packages/sklearn/base.py:313: UserWarning: Trying to unpickle estimator MLPClassifier from version 0.21.2 when using version 0.22. This might lead to breaking code or invalid results. Use at your own risk.\n",
      "  warnings.warn(\n",
      "/Users/svjack/opt/anaconda3/lib/python3.8/site-packages/sklearn/utils/deprecation.py:144: FutureWarning: The sklearn.preprocessing.label module is  deprecated in version 0.22 and will be removed in version 0.24. The corresponding classes / functions should instead be imported from sklearn.preprocessing. Anything that cannot be imported from sklearn.preprocessing is now part of the private API.\n",
      "  warnings.warn(message, FutureWarning)\n",
      "/Users/svjack/opt/anaconda3/lib/python3.8/site-packages/sklearn/base.py:313: UserWarning: Trying to unpickle estimator LabelBinarizer from version 0.21.2 when using version 0.22. This might lead to breaking code or invalid results. Use at your own risk.\n",
      "  warnings.warn(\n",
      "/Users/svjack/opt/anaconda3/lib/python3.8/site-packages/sklearn/base.py:313: UserWarning: Trying to unpickle estimator BaggingClassifier from version 0.21.2 when using version 0.22. This might lead to breaking code or invalid results. Use at your own risk.\n",
      "  warnings.warn(\n"
     ]
    }
   ],
   "source": [
    "from ranker import *"
   ]
  },
  {
   "cell_type": "code",
   "execution_count": 2,
   "id": "141ba834",
   "metadata": {},
   "outputs": [
    {
     "data": {
      "application/vnd.jupyter.widget-view+json": {
       "model_id": "60aaee3d08694c3c84049c09d164dd5b",
       "version_major": 2,
       "version_minor": 0
      },
      "text/plain": [
       "Batches:   0%|          | 0/25 [00:00<?, ?it/s]"
      ]
     },
     "metadata": {},
     "output_type": "display_data"
    }
   ],
   "source": [
    "sim_model = SentenceTransformer('LaBSE')\n",
    "sim_model.pool = None\n",
    "\n",
    "br_cls = RFR(b_clf,\n",
    "        all_cate_list=list(pid_zh_b_dict.values()),\n",
    "       sim_model=sim_model\n",
    "       )"
   ]
  },
  {
   "cell_type": "code",
   "execution_count": 134,
   "id": "8ac6c2da",
   "metadata": {},
   "outputs": [],
   "source": [
    "property_info_df = load_pickle(\"property_info_df.pkl\")"
   ]
  },
  {
   "cell_type": "code",
   "execution_count": 135,
   "id": "33746558",
   "metadata": {},
   "outputs": [],
   "source": [
    "property_info_df = property_info_df[\n",
    "    property_info_df[\"pid\"].isin(list(pid_zh_b_dict.keys()))\n",
    "]"
   ]
  },
  {
   "cell_type": "code",
   "execution_count": 136,
   "id": "0ea2a789",
   "metadata": {},
   "outputs": [],
   "source": [
    "property_info_df[\"zh_info_str\"] = property_info_df[\"pid\"].map(\n",
    "    lambda x: pid_zh_b_dict[x]\n",
    ")"
   ]
  },
  {
   "cell_type": "code",
   "execution_count": 137,
   "id": "bee9cbf9",
   "metadata": {},
   "outputs": [],
   "source": [
    "property_info_df[\"en_info\"] = property_info_df[\"en_info\"].map(\n",
    "    lambda x: [sorted(x, key = len)[0]] if x else []\n",
    ")"
   ]
  },
  {
   "cell_type": "code",
   "execution_count": 138,
   "id": "44540979",
   "metadata": {},
   "outputs": [],
   "source": [
    "property_info_df[\"zh_info\"] = property_info_df[\"zh_info_str\"].map(\n",
    "    lambda x: list(map(lambda y: y.strip(), x.split(\" \")))\n",
    ")"
   ]
  },
  {
   "cell_type": "code",
   "execution_count": 139,
   "id": "e77e18bf",
   "metadata": {},
   "outputs": [],
   "source": [
    "property_info_df = property_info_df[\n",
    "    property_info_df.apply(lambda x: x[\"en_info\"] and x[\"zh_info\"], axis = 1).map(bool)\n",
    "]"
   ]
  },
  {
   "cell_type": "code",
   "execution_count": 142,
   "id": "1f01e2e6",
   "metadata": {},
   "outputs": [],
   "source": [
    "####property_info_df"
   ]
  },
  {
   "cell_type": "code",
   "execution_count": null,
   "id": "6acdef75",
   "metadata": {},
   "outputs": [],
   "source": []
  },
  {
   "cell_type": "code",
   "execution_count": 95,
   "id": "c030833c",
   "metadata": {},
   "outputs": [
    {
     "name": "stderr",
     "output_type": "stream",
     "text": [
      "[Parallel(n_jobs=1)]: Using backend SequentialBackend with 1 concurrent workers.\n",
      "[Parallel(n_jobs=1)]: Done   1 out of   1 | elapsed:    0.1s finished\n"
     ]
    },
    {
     "data": {
      "text/html": [
       "<div>\n",
       "<style scoped>\n",
       "    .dataframe tbody tr th:only-of-type {\n",
       "        vertical-align: middle;\n",
       "    }\n",
       "\n",
       "    .dataframe tbody tr th {\n",
       "        vertical-align: top;\n",
       "    }\n",
       "\n",
       "    .dataframe thead th {\n",
       "        text-align: right;\n",
       "    }\n",
       "</style>\n",
       "<table border=\"1\" class=\"dataframe\">\n",
       "  <thead>\n",
       "    <tr style=\"text-align: right;\">\n",
       "      <th></th>\n",
       "      <th>prob</th>\n",
       "      <th>cate</th>\n",
       "    </tr>\n",
       "  </thead>\n",
       "  <tbody>\n",
       "    <tr>\n",
       "      <th>762</th>\n",
       "      <td>0.991404</td>\n",
       "      <td>货币 貨幣 項目使用的貨幣 项目使用的货币</td>\n",
       "    </tr>\n",
       "    <tr>\n",
       "      <th>58</th>\n",
       "      <td>0.971753</td>\n",
       "      <td>色彩空间 颜色空间</td>\n",
       "    </tr>\n",
       "  </tbody>\n",
       "</table>\n",
       "</div>"
      ],
      "text/plain": [
       "         prob                   cate\n",
       "762  0.991404  货币 貨幣 項目使用的貨幣 项目使用的货币\n",
       "58   0.971753              色彩空间 颜色空间"
      ]
     },
     "execution_count": 95,
     "metadata": {},
     "output_type": "execute_result"
    }
   ],
   "source": [
    "br_cls.produce_rank_df(\"美国的货币是什么？\",  br_cls.all_cate_list).head(2)"
   ]
  },
  {
   "cell_type": "code",
   "execution_count": 100,
   "id": "aa0615ef",
   "metadata": {},
   "outputs": [
    {
     "name": "stderr",
     "output_type": "stream",
     "text": [
      "[Parallel(n_jobs=1)]: Using backend SequentialBackend with 1 concurrent workers.\n",
      "[Parallel(n_jobs=1)]: Done   1 out of   1 | elapsed:    0.1s finished\n"
     ]
    },
    {
     "data": {
      "text/html": [
       "<div>\n",
       "<style scoped>\n",
       "    .dataframe tbody tr th:only-of-type {\n",
       "        vertical-align: middle;\n",
       "    }\n",
       "\n",
       "    .dataframe tbody tr th {\n",
       "        vertical-align: top;\n",
       "    }\n",
       "\n",
       "    .dataframe thead th {\n",
       "        text-align: right;\n",
       "    }\n",
       "</style>\n",
       "<table border=\"1\" class=\"dataframe\">\n",
       "  <thead>\n",
       "    <tr style=\"text-align: right;\">\n",
       "      <th></th>\n",
       "      <th>prob</th>\n",
       "      <th>cate</th>\n",
       "      <th>pid</th>\n",
       "      <th>en_info</th>\n",
       "      <th>zh_info</th>\n",
       "    </tr>\n",
       "  </thead>\n",
       "  <tbody>\n",
       "    <tr>\n",
       "      <th>0</th>\n",
       "      <td>0.991404</td>\n",
       "      <td>货币 貨幣 項目使用的貨幣 项目使用的货币</td>\n",
       "      <td>P38</td>\n",
       "      <td>currency currency used by item base currency u...</td>\n",
       "      <td>货币 貨幣 項目使用的貨幣 项目使用的货币</td>\n",
       "    </tr>\n",
       "    <tr>\n",
       "      <th>1</th>\n",
       "      <td>0.971753</td>\n",
       "      <td>色彩空间 颜色空间</td>\n",
       "      <td>P929</td>\n",
       "      <td>color space colour space mathematical model de...</td>\n",
       "      <td>色彩空间 颜色空间</td>\n",
       "    </tr>\n",
       "  </tbody>\n",
       "</table>\n",
       "</div>"
      ],
      "text/plain": [
       "       prob                   cate   pid  \\\n",
       "0  0.991404  货币 貨幣 項目使用的貨幣 项目使用的货币   P38   \n",
       "1  0.971753              色彩空间 颜色空间  P929   \n",
       "\n",
       "                                             en_info                zh_info  \n",
       "0  currency currency used by item base currency u...  货币 貨幣 項目使用的貨幣 项目使用的货币  \n",
       "1  color space colour space mathematical model de...              色彩空间 颜色空间  "
      ]
     },
     "execution_count": 100,
     "metadata": {},
     "output_type": "execute_result"
    }
   ],
   "source": [
    "pd.merge(\n",
    "    br_cls.produce_rank_df(\"美国的货币是什么？\",  br_cls.all_cate_list).head(2), \n",
    "    property_info_df,\n",
    "    left_on = \"cate\", right_on = \"zh_info\"\n",
    ")"
   ]
  },
  {
   "cell_type": "code",
   "execution_count": null,
   "id": "a1c8f090",
   "metadata": {},
   "outputs": [],
   "source": [
    "property_info_df_str = property_info_df.applymap(\n",
    "    lambda x: if type(x) == type()\n",
    ")"
   ]
  },
  {
   "cell_type": "code",
   "execution_count": 7,
   "id": "84a24e2c",
   "metadata": {},
   "outputs": [],
   "source": [
    "from simplet5 import SimpleT5\n",
    "\n",
    "model = SimpleT5()\n",
    "model.from_pretrained(model_type=\"mt5\", model_name=\"google/mt5-base\")\n",
    "\n",
    "model.load_model(\n",
    "    \"mt5\",\n",
    "    \"/Users/svjack/temp/kb_aug/model/t5_gen_outputs/nq-simplet5-epoch-2-train-loss-0.0072-val-loss-0.0045\",\n",
    "    use_gpu = False\n",
    ")"
   ]
  },
  {
   "cell_type": "code",
   "execution_count": 9,
   "id": "f3745499",
   "metadata": {},
   "outputs": [],
   "source": [
    "import sqlite_utils"
   ]
  },
  {
   "cell_type": "code",
   "execution_count": 10,
   "id": "b08b2c18",
   "metadata": {},
   "outputs": [],
   "source": [
    "assert os.path.exists(\"kbqa-explore/multi_lang_kb_dict.db\")\n",
    "wiki_entity_db = sqlite_utils.Database(\"kbqa-explore/multi_lang_kb_dict.db\")\n",
    "assert \"en_zh_so_search\" in wiki_entity_db.table_names()"
   ]
  },
  {
   "cell_type": "code",
   "execution_count": 11,
   "id": "ecd41f42",
   "metadata": {},
   "outputs": [],
   "source": [
    "sent = \"碳酸钙的副产品是什么? 在温度为1000的时候?\""
   ]
  },
  {
   "cell_type": "code",
   "execution_count": 101,
   "id": "ea1f506a",
   "metadata": {},
   "outputs": [
    {
     "name": "stderr",
     "output_type": "stream",
     "text": [
      "/Users/svjack/opt/anaconda3/lib/python3.8/site-packages/fuzzywuzzy/fuzz.py:11: UserWarning: Using slow pure-python SequenceMatcher. Install python-Levenshtein to remove this warning\n",
      "  warnings.warn('Using slow pure-python SequenceMatcher. Install python-Levenshtein to remove this warning')\n"
     ]
    }
   ],
   "source": [
    "from fuzzywuzzy import fuzz"
   ]
  },
  {
   "cell_type": "code",
   "execution_count": 35,
   "id": "f8bc071c",
   "metadata": {},
   "outputs": [],
   "source": [
    "import jieba.posseg as posseg\n",
    "def unzip_string(x, size = 2):\n",
    "    if len(x) <= size:\n",
    "        return [x]\n",
    "    req = []\n",
    "    for i in range(len(x) - size + 1):\n",
    "        req.append(x[i: i + size])\n",
    "    return req"
   ]
  },
  {
   "cell_type": "code",
   "execution_count": 86,
   "id": "aa30e1a0",
   "metadata": {},
   "outputs": [],
   "source": [
    "def iter_sent_on_db(sent, db = wiki_entity_db, maintain_flag = [\"n\", \"v\"], refine_token_size = 2,\n",
    "                   rm_keys = [\"是\"], take_one = True, rp_eng = True\n",
    "                   ):\n",
    "    sent_c = set(map(lambda tt2: tt2[0] ,filter(lambda t2: \n",
    "                    any(map(lambda f: t2[1].startswith(f), maintain_flag))\n",
    "                    ,map(lambda x: (x.word, x.flag) ,posseg.lcut(sent)))))\n",
    "    \n",
    "    sent_c = pd.Series(list(sent_c)).map(\n",
    "        lambda x: unzip_string(x, refine_token_size)\n",
    "    ).explode().dropna().drop_duplicates().tolist()\n",
    "    \n",
    "    if not sent_c:\n",
    "        return []\n",
    "    l = list(map(\n",
    "        lambda x: (x, \n",
    "        list(map(lambda y: y[\"o\"] ,\n",
    "        wiki_entity_db.query(\"select * from en_zh_so_search where o like '%{}%'\".format(x)))))\n",
    "        , sent_c))\n",
    "    #return l\n",
    "    l = list(map(lambda t2: (\n",
    "        t2[0], \n",
    "        sorted(set(filter(lambda x: x in sent, t2[1])), key = len, reverse = True)\n",
    "    ), l))\n",
    "    ll = []\n",
    "    for k, v in l:\n",
    "        if v and k not in rm_keys:\n",
    "            vvv = []\n",
    "            #print(v)\n",
    "            for vv in v:\n",
    "                assert type(vv) == type(\"\")\n",
    "                vl = list(wiki_entity_db.query(\"select s from en_zh_so_search where o = '{}'\".format(vv)))\n",
    "                sl = list(map(lambda x: x[\"s\"], vl))\n",
    "                if take_one:\n",
    "                    sl = [sorted(sl, key = lambda x:int(x[1:]))[0]]\n",
    "                    if rp_eng:\n",
    "                        sl = list(wiki_entity_db.query(\"select o from en_zh_so_search where s = '{}' and lang = 'en'\".format(sl[0])))\n",
    "                        sl = list(map(lambda x: x[\"o\"], sl))\n",
    "                vvv.extend(sl)\n",
    "                #print(vvv)\n",
    "            ll.append((k, vvv))\n",
    "    return dict(ll)"
   ]
  },
  {
   "cell_type": "code",
   "execution_count": 147,
   "id": "f33725c1",
   "metadata": {},
   "outputs": [],
   "source": [
    "def entity_property_simplify_extraction(\n",
    "    sent, br_cls, property_topk = 3\n",
    "):\n",
    "    print(\"fit entity\")\n",
    "    entity_part = iter_sent_on_db(sent)\n",
    "    entity_part = dict(\n",
    "        map(lambda t2: (t2[0], [sorted(t2[1], key = len)[0]] if t2[1] else []) ,entity_part.items())\n",
    "    )\n",
    "    print(\"pred prop\")\n",
    "    \n",
    "    property_part = br_cls.produce_rank_df(sent,  br_cls.all_cate_list).head(property_topk)\n",
    "    #print(\"0 :\")\n",
    "    #print(property_part)\n",
    "    property_part = pd.merge(\n",
    "    property_part, \n",
    "    property_info_df,\n",
    "    left_on = \"cate\", right_on = \"zh_info_str\"\n",
    ")[[\"pid\", \"zh_info\", \"en_info\", \"prob\"]]\n",
    "    #print(\"1 :\")\n",
    "    #print(property_part)\n",
    "    property_part[\"en_info\"] = property_part[\"en_info\"].map(\n",
    "        lambda x: [sorted(x, key = len)[0]]\n",
    "    )\n",
    "    property_part[\"zh_info\"] = property_part[\"zh_info\"].map(\n",
    "        lambda x: [sorted(x, key = lambda y: fuzz.ratio(y, sent), reverse = True)[0]]\n",
    "    )\n",
    "    return entity_part, property_part"
   ]
  },
  {
   "cell_type": "code",
   "execution_count": 148,
   "id": "5a699cee",
   "metadata": {},
   "outputs": [
    {
     "name": "stdout",
     "output_type": "stream",
     "text": [
      "fit entity\n",
      "pred prop\n"
     ]
    },
    {
     "name": "stderr",
     "output_type": "stream",
     "text": [
      "[Parallel(n_jobs=1)]: Using backend SequentialBackend with 1 concurrent workers.\n",
      "[Parallel(n_jobs=1)]: Done   1 out of   1 | elapsed:    0.1s finished\n"
     ]
    }
   ],
   "source": [
    "a, b = entity_property_simplify_extraction(\"宁波在哪个省？\", br_cls)"
   ]
  },
  {
   "cell_type": "code",
   "execution_count": 149,
   "id": "17556f15",
   "metadata": {},
   "outputs": [
    {
     "data": {
      "text/plain": [
       "{'宁波': ['Ningbo'], '省': ['département']}"
      ]
     },
     "execution_count": 149,
     "metadata": {},
     "output_type": "execute_result"
    }
   ],
   "source": [
    "a"
   ]
  },
  {
   "cell_type": "code",
   "execution_count": 150,
   "id": "64492cb2",
   "metadata": {},
   "outputs": [
    {
     "data": {
      "text/html": [
       "<div>\n",
       "<style scoped>\n",
       "    .dataframe tbody tr th:only-of-type {\n",
       "        vertical-align: middle;\n",
       "    }\n",
       "\n",
       "    .dataframe tbody tr th {\n",
       "        vertical-align: top;\n",
       "    }\n",
       "\n",
       "    .dataframe thead th {\n",
       "        text-align: right;\n",
       "    }\n",
       "</style>\n",
       "<table border=\"1\" class=\"dataframe\">\n",
       "  <thead>\n",
       "    <tr style=\"text-align: right;\">\n",
       "      <th></th>\n",
       "      <th>pid</th>\n",
       "      <th>zh_info</th>\n",
       "      <th>en_info</th>\n",
       "      <th>prob</th>\n",
       "    </tr>\n",
       "  </thead>\n",
       "  <tbody>\n",
       "    <tr>\n",
       "      <th>0</th>\n",
       "      <td>P131</td>\n",
       "      <td>[所在省]</td>\n",
       "      <td>[in]</td>\n",
       "      <td>0.991715</td>\n",
       "    </tr>\n",
       "    <tr>\n",
       "      <th>1</th>\n",
       "      <td>P1001</td>\n",
       "      <td>[辖区]</td>\n",
       "      <td>[jurisdiction]</td>\n",
       "      <td>0.989723</td>\n",
       "    </tr>\n",
       "    <tr>\n",
       "      <th>2</th>\n",
       "      <td>P150</td>\n",
       "      <td>[下辖]</td>\n",
       "      <td>[contains]</td>\n",
       "      <td>0.972107</td>\n",
       "    </tr>\n",
       "  </tbody>\n",
       "</table>\n",
       "</div>"
      ],
      "text/plain": [
       "     pid zh_info         en_info      prob\n",
       "0   P131   [所在省]            [in]  0.991715\n",
       "1  P1001    [辖区]  [jurisdiction]  0.989723\n",
       "2   P150    [下辖]      [contains]  0.972107"
      ]
     },
     "execution_count": 150,
     "metadata": {},
     "output_type": "execute_result"
    }
   ],
   "source": [
    "b"
   ]
  },
  {
   "cell_type": "code",
   "execution_count": 151,
   "id": "eb918e76",
   "metadata": {},
   "outputs": [
    {
     "data": {
      "text/plain": [
       "\"宁波在哪个省 * {'Ningbo': '宁波'}|{'in': '所在省'}\""
      ]
     },
     "execution_count": 151,
     "metadata": {},
     "output_type": "execute_result"
    }
   ],
   "source": [
    "\"宁波在哪个省\" + \" * \" + \"{'Ningbo': '宁波'}\" + \"|\" + \"{'in': '所在省'}\""
   ]
  },
  {
   "cell_type": "code",
   "execution_count": 162,
   "id": "a9c0200c",
   "metadata": {},
   "outputs": [
    {
     "data": {
      "text/plain": [
       "['select distinct?answer where {?answer wdt:in wd:Ningbo}']"
      ]
     },
     "execution_count": 162,
     "metadata": {},
     "output_type": "execute_result"
    }
   ],
   "source": [
    "model.predict(\n",
    "    \"宁波在哪个省\" + \" * \" + \"{'Ningbo': '宁波'}\" + \"|\" + \"{'in': '所在省'}\"\n",
    ")"
   ]
  },
  {
   "cell_type": "code",
   "execution_count": 163,
   "id": "1dd31f05",
   "metadata": {},
   "outputs": [
    {
     "data": {
      "text/plain": [
       "['select distinct?answer where {?answer wdt:所在_省 wd:宁波}']"
      ]
     },
     "execution_count": 163,
     "metadata": {},
     "output_type": "execute_result"
    }
   ],
   "source": [
    "model.predict(\n",
    "    \"宁波在哪个省\" + \" * \" + \"{'宁波': '宁波'}\" + \"|\" + \"{'所在省': '所在省'}\"\n",
    ")"
   ]
  },
  {
   "cell_type": "code",
   "execution_count": 164,
   "id": "db4854fd",
   "metadata": {},
   "outputs": [
    {
     "data": {
      "text/plain": [
       "['select distinct?answer where {?answer wdt:所在_省 wd:宁波}']"
      ]
     },
     "execution_count": 164,
     "metadata": {},
     "output_type": "execute_result"
    }
   ],
   "source": [
    "model.predict(\n",
    "    \"宁波在哪个省\" + \" * \" + \"{'所在省': '所在省'}\" + \"|\" + \"{'宁波': '宁波'}\"\n",
    ")"
   ]
  },
  {
   "cell_type": "code",
   "execution_count": null,
   "id": "47e9af14",
   "metadata": {},
   "outputs": [],
   "source": []
  },
  {
   "cell_type": "code",
   "execution_count": 165,
   "id": "1344288a",
   "metadata": {},
   "outputs": [
    {
     "data": {
      "text/plain": [
       "[\"SELECT?value WHERE { wd:calcium_carbonate p:temperature?s.?s ps:temperature?x filter(contains(?x,'1.000')).?s pq:by-product?value}\"]"
      ]
     },
     "execution_count": 165,
     "metadata": {},
     "output_type": "execute_result"
    }
   ],
   "source": [
    "model.predict(\n",
    "    \"碳酸钙的副产品是什么? 在温度为1000的时候? * {'by-product': '副产物'}|{'temperature': '室温'}|{'calcium carbonate': '碳酸钙'}\"\n",
    ")"
   ]
  },
  {
   "cell_type": "code",
   "execution_count": 166,
   "id": "560a88dc",
   "metadata": {},
   "outputs": [
    {
     "data": {
      "text/plain": [
       "['SELECT?value WHERE { wd:碳酸钙 p:副产物?s.?s ps:副产物 wd:室温.?s pq:室温?value}']"
      ]
     },
     "execution_count": 166,
     "metadata": {},
     "output_type": "execute_result"
    }
   ],
   "source": [
    "model.predict(\n",
    "    \"碳酸钙的副产品是什么? 在温度为1000的时候? * {'副产物': '副产物'}|{'室温': '室温'}|{'碳酸钙': '碳酸钙'}\"\n",
    ")"
   ]
  },
  {
   "cell_type": "code",
   "execution_count": 169,
   "id": "4fc0d547",
   "metadata": {},
   "outputs": [
    {
     "data": {
      "text/plain": [
       "['select distinct?answer where {?answer wdt:哪个_省管辖льцi wd:Curtis}']"
      ]
     },
     "execution_count": 169,
     "metadata": {},
     "output_type": "execute_result"
    }
   ],
   "source": [
    "model.predict(\n",
    "    \"哪个省管辖丰县？\"\n",
    ")"
   ]
  },
  {
   "cell_type": "code",
   "execution_count": null,
   "id": "05f8658e",
   "metadata": {},
   "outputs": [],
   "source": []
  },
  {
   "cell_type": "code",
   "execution_count": 168,
   "id": "d4848da1",
   "metadata": {},
   "outputs": [
    {
     "data": {
      "text/plain": [
       "['SELECT?value WHERE { wd:碳酸钙 p:副产物?s.?s ps:副产物 wd:室温.?s pq:室温?value}']"
      ]
     },
     "execution_count": 168,
     "metadata": {},
     "output_type": "execute_result"
    }
   ],
   "source": [
    "model.predict(\n",
    "    \"碳酸钙的副产品在温度为1000的时候是什么? * {'副产物': '副产物'}|{'室温': '室温'}|{'碳酸钙': '碳酸钙'}\"\n",
    ")"
   ]
  },
  {
   "cell_type": "code",
   "execution_count": null,
   "id": "25430752",
   "metadata": {},
   "outputs": [],
   "source": []
  },
  {
   "cell_type": "code",
   "execution_count": 167,
   "id": "6a00c492",
   "metadata": {},
   "outputs": [
    {
     "data": {
      "text/plain": [
       "['SELECT?value WHERE { wd:碳酸钙 p:副产物?s.?s ps:副产物 wd:副产物.?s pq:室温?value}']"
      ]
     },
     "execution_count": 167,
     "metadata": {},
     "output_type": "execute_result"
    }
   ],
   "source": [
    "model.predict(\n",
    "    \"碳酸钙的副产品是什么? 在温度为1000的时候? * {'碳酸钙': '碳酸钙'}|{'副产物': '副产物'}|{'室温': '室温'}\"\n",
    ")"
   ]
  },
  {
   "cell_type": "code",
   "execution_count": null,
   "id": "ab90d497",
   "metadata": {},
   "outputs": [],
   "source": []
  },
  {
   "cell_type": "code",
   "execution_count": 154,
   "id": "abe5087a",
   "metadata": {},
   "outputs": [
    {
     "data": {
      "text/plain": [
       "['SELECT?obj WHERE { wd:Ningbo p:département?s.?s ps:département?obj.?s pq:in wd:in }']"
      ]
     },
     "execution_count": 154,
     "metadata": {},
     "output_type": "execute_result"
    }
   ],
   "source": [
    "model.predict(\n",
    "    \"宁波在哪个省\" + \" * \" + \"{'Ningbo': '宁波'}\" + \"|\" + \"{'in': '所在省'}\" + \"|\" + \"{'département': '省'}\"\n",
    ")"
   ]
  },
  {
   "cell_type": "code",
   "execution_count": 155,
   "id": "ef7e7e29",
   "metadata": {},
   "outputs": [
    {
     "data": {
      "text/plain": [
       "['select distinct?answer where { wd:宁波 wdt:鄞_在住_in_哪个_省u_.?answer}']"
      ]
     },
     "execution_count": 155,
     "metadata": {},
     "output_type": "execute_result"
    }
   ],
   "source": [
    "model.predict(\n",
    "    \"宁波在哪个省\"\n",
    ")"
   ]
  },
  {
   "cell_type": "code",
   "execution_count": 156,
   "id": "4eac402f",
   "metadata": {},
   "outputs": [
    {
     "data": {
      "text/plain": [
       "['select distinct?answer where { wd:碳酸钙 wdt:temperature_accepted?answer}']"
      ]
     },
     "execution_count": 156,
     "metadata": {},
     "output_type": "execute_result"
    }
   ],
   "source": [
    "model.predict(\n",
    "    \"碳酸钙的副产品是什么? 在温度为1000的时候?\"\n",
    ")"
   ]
  },
  {
   "cell_type": "code",
   "execution_count": 157,
   "id": "3f73b0b7",
   "metadata": {},
   "outputs": [
    {
     "data": {
      "text/plain": [
       "['select distinct?answer where { wd:John_Bush wdt:matches_of?answer}']"
      ]
     },
     "execution_count": 157,
     "metadata": {},
     "output_type": "execute_result"
    }
   ],
   "source": [
    "model.predict(\n",
    "    \"哪个职业是乔治布莱尔的人生巅峰?\"\n",
    ")"
   ]
  },
  {
   "cell_type": "code",
   "execution_count": 158,
   "id": "aa0ad50a",
   "metadata": {},
   "outputs": [
    {
     "data": {
      "text/plain": [
       "['select distinct?answer where { wd:calcium_carbonates wdt:副产品_is_?answer}']"
      ]
     },
     "execution_count": 158,
     "metadata": {},
     "output_type": "execute_result"
    }
   ],
   "source": [
    "model.predict(\n",
    "    \"碳酸钙的副产品是什么?\"\n",
    ")"
   ]
  },
  {
   "cell_type": "code",
   "execution_count": null,
   "id": "d5357e06",
   "metadata": {},
   "outputs": [],
   "source": []
  },
  {
   "cell_type": "code",
   "execution_count": null,
   "id": "f4713473",
   "metadata": {},
   "outputs": [],
   "source": []
  },
  {
   "cell_type": "code",
   "execution_count": null,
   "id": "93244706",
   "metadata": {},
   "outputs": [],
   "source": [
    "'select distinct?answer where {wd:Ningbo wdt:in ?answer}'"
   ]
  },
  {
   "cell_type": "code",
   "execution_count": null,
   "id": "3040f292",
   "metadata": {},
   "outputs": [],
   "source": [
    "model.predict(\n",
    "    \"宁波在哪个省\" + \" * \" + \"{'Ningbo': '宁波'}\" + \"|\" + \"{'in': '所在省'}\" + \"|\" + \n",
    ")"
   ]
  },
  {
   "cell_type": "code",
   "execution_count": null,
   "id": "e8b7fdd7",
   "metadata": {},
   "outputs": [],
   "source": [
    "model.predict(\n",
    "    \"宁波在哪个省\" + \" * \" + \"{'Ningbo': '宁波'}\" + \"|\" + \"{'in': '所在省'}\"\n",
    ")"
   ]
  },
  {
   "cell_type": "code",
   "execution_count": null,
   "id": "b8fd78b4",
   "metadata": {},
   "outputs": [],
   "source": []
  },
  {
   "cell_type": "code",
   "execution_count": 115,
   "id": "62b87951",
   "metadata": {},
   "outputs": [
    {
     "data": {
      "text/html": [
       "<div>\n",
       "<style scoped>\n",
       "    .dataframe tbody tr th:only-of-type {\n",
       "        vertical-align: middle;\n",
       "    }\n",
       "\n",
       "    .dataframe tbody tr th {\n",
       "        vertical-align: top;\n",
       "    }\n",
       "\n",
       "    .dataframe thead th {\n",
       "        text-align: right;\n",
       "    }\n",
       "</style>\n",
       "<table border=\"1\" class=\"dataframe\">\n",
       "  <thead>\n",
       "    <tr style=\"text-align: right;\">\n",
       "      <th></th>\n",
       "      <th>pid</th>\n",
       "      <th>en_info</th>\n",
       "      <th>zh_info</th>\n",
       "    </tr>\n",
       "  </thead>\n",
       "  <tbody>\n",
       "    <tr>\n",
       "      <th>4</th>\n",
       "      <td>P131</td>\n",
       "      <td>located in the administrative territorial enti...</td>\n",
       "      <td>所在行政領土實體 所在行政领土实体 隶属 上级行政区 行政區 隸屬行政區 上級行政區 所屬行...</td>\n",
       "    </tr>\n",
       "  </tbody>\n",
       "</table>\n",
       "</div>"
      ],
      "text/plain": [
       "    pid                                            en_info  \\\n",
       "4  P131  located in the administrative territorial enti...   \n",
       "\n",
       "                                             zh_info  \n",
       "4  所在行政領土實體 所在行政领土实体 隶属 上级行政区 行政區 隸屬行政區 上級行政區 所屬行...  "
      ]
     },
     "execution_count": 115,
     "metadata": {},
     "output_type": "execute_result"
    }
   ],
   "source": [
    "property_info_df[\n",
    "    property_info_df[\"pid\"] == \"P131\"\n",
    "]"
   ]
  },
  {
   "cell_type": "code",
   "execution_count": null,
   "id": "7d734118",
   "metadata": {},
   "outputs": [],
   "source": []
  },
  {
   "cell_type": "code",
   "execution_count": 88,
   "id": "ab65330b",
   "metadata": {},
   "outputs": [
    {
     "data": {
      "text/plain": [
       "{'碳酸': ['carbonic acid',\n",
       "  'Acid of air',\n",
       "  'Aerial acid',\n",
       "  'Bisodium carbonate',\n",
       "  'Calcined',\n",
       "  'Carbonic acid sodium salt',\n",
       "  'Consal',\n",
       "  'Crystol carbonate',\n",
       "  'Disodium carbonate',\n",
       "  'H2CO3',\n",
       "  'Mild alkali',\n",
       "  'Na-X',\n",
       "  'Oxyper',\n",
       "  'Sal soda',\n",
       "  'Salt of soda',\n",
       "  'Scotch soda',\n",
       "  'Soda ash',\n",
       "  'Soda',\n",
       "  'Sodium carbonate anhydrous',\n",
       "  'Sodium carbonate hydrated',\n",
       "  'Sodium carbonate peroxyhydrate',\n",
       "  'Sodium carbonate',\n",
       "  'Solvay soda',\n",
       "  'Trona soda ash',\n",
       "  'Tronalight light soda ash',\n",
       "  '[CO(OH)2]'],\n",
       " '产品': ['product', 'goods', 'merchandise'],\n",
       " '温度': ['temperature']}"
      ]
     },
     "execution_count": 88,
     "metadata": {},
     "output_type": "execute_result"
    }
   ],
   "source": [
    "iter_sent_on_db(sent)"
   ]
  },
  {
   "cell_type": "code",
   "execution_count": 89,
   "id": "dc22821d",
   "metadata": {},
   "outputs": [
    {
     "data": {
      "text/plain": [
       "{'宁波': ['Ningbo', 'Ningpo'], '省': ['department of France', 'département']}"
      ]
     },
     "execution_count": 89,
     "metadata": {},
     "output_type": "execute_result"
    }
   ],
   "source": [
    "iter_sent_on_db(\"宁波在哪个省？\")"
   ]
  },
  {
   "cell_type": "code",
   "execution_count": null,
   "id": "520eebe2",
   "metadata": {},
   "outputs": [],
   "source": []
  },
  {
   "cell_type": "code",
   "execution_count": null,
   "id": "6f6c5421",
   "metadata": {},
   "outputs": [],
   "source": []
  },
  {
   "cell_type": "code",
   "execution_count": 90,
   "id": "f8e07b41",
   "metadata": {},
   "outputs": [
    {
     "data": {
      "text/plain": [
       "{'货币': [],\n",
       " '美国': ['United States of America',\n",
       "  'America',\n",
       "  'U.S.',\n",
       "  'U.S.A.',\n",
       "  'US',\n",
       "  'USA',\n",
       "  'United States',\n",
       "  'the States',\n",
       "  'the US',\n",
       "  '🇺🇸']}"
      ]
     },
     "execution_count": 90,
     "metadata": {},
     "output_type": "execute_result"
    }
   ],
   "source": [
    "iter_sent_on_db(\"美国的货币是什么？\")"
   ]
  },
  {
   "cell_type": "code",
   "execution_count": 91,
   "id": "7468a808",
   "metadata": {},
   "outputs": [
    {
     "data": {
      "text/plain": [
       "{'川普': ['Donald Trump',\n",
       "  'Donald J. Trump',\n",
       "  'Donald John Trump',\n",
       "  'The Donald',\n",
       "  'Trump'],\n",
       " '出生': ['parturition', 'Birth', 'GO:0007567', 'birth', 'giving birth']}"
      ]
     },
     "execution_count": 91,
     "metadata": {},
     "output_type": "execute_result"
    }
   ],
   "source": [
    "iter_sent_on_db(\"川普什么时候出生？\")"
   ]
  },
  {
   "cell_type": "code",
   "execution_count": null,
   "id": "60dd0c05",
   "metadata": {},
   "outputs": [],
   "source": []
  },
  {
   "cell_type": "code",
   "execution_count": null,
   "id": "2ac97f77",
   "metadata": {},
   "outputs": [],
   "source": []
  },
  {
   "cell_type": "code",
   "execution_count": null,
   "id": "19a6a164",
   "metadata": {},
   "outputs": [],
   "source": []
  },
  {
   "cell_type": "code",
   "execution_count": null,
   "id": "7827f19f",
   "metadata": {},
   "outputs": [],
   "source": []
  },
  {
   "cell_type": "code",
   "execution_count": 49,
   "id": "313c74b6",
   "metadata": {},
   "outputs": [],
   "source": [
    "####"
   ]
  },
  {
   "cell_type": "code",
   "execution_count": null,
   "id": "5b419671",
   "metadata": {},
   "outputs": [],
   "source": []
  },
  {
   "cell_type": "code",
   "execution_count": 65,
   "id": "f6d3b487",
   "metadata": {},
   "outputs": [],
   "source": [
    "zh_str = '碳酸'\n",
    "g = wiki_entity_db.query(\"select s from en_zh_so_search where o like '%{}%'\".format(zh_str))\n",
    "l = list(g)"
   ]
  },
  {
   "cell_type": "code",
   "execution_count": 66,
   "id": "18d077dc",
   "metadata": {},
   "outputs": [
    {
     "data": {
      "text/plain": [
       "107"
      ]
     },
     "execution_count": 66,
     "metadata": {},
     "output_type": "execute_result"
    }
   ],
   "source": [
    "len(l)"
   ]
  },
  {
   "cell_type": "code",
   "execution_count": 67,
   "id": "218ec043",
   "metadata": {},
   "outputs": [
    {
     "data": {
      "text/plain": [
       "0      {'s': 'Q1025288'}\n",
       "1       {'s': 'Q104334'}\n",
       "2      {'s': 'Q1047326'}\n",
       "3      {'s': 'Q1073138'}\n",
       "4       {'s': 'Q130336'}\n",
       "             ...        \n",
       "102    {'s': 'Q8343712'}\n",
       "103    {'s': 'Q8343713'}\n",
       "104    {'s': 'Q8343736'}\n",
       "105    {'s': 'Q8343738'}\n",
       "106    {'s': 'Q8773993'}\n",
       "Length: 107, dtype: object"
      ]
     },
     "execution_count": 67,
     "metadata": {},
     "output_type": "execute_result"
    }
   ],
   "source": [
    "pd.Series(l)"
   ]
  },
  {
   "cell_type": "code",
   "execution_count": 18,
   "id": "a319290d",
   "metadata": {},
   "outputs": [],
   "source": [
    "zh_str = '碳酸'\n",
    "g = wiki_entity_db.query(\"select * from en_zh_so_search where o == '{}'\".format(zh_str))\n",
    "l = list(g)"
   ]
  },
  {
   "cell_type": "code",
   "execution_count": 19,
   "id": "5951828f",
   "metadata": {},
   "outputs": [
    {
     "data": {
      "text/plain": [
       "1"
      ]
     },
     "execution_count": 19,
     "metadata": {},
     "output_type": "execute_result"
    }
   ],
   "source": [
    "len(l)"
   ]
  },
  {
   "cell_type": "code",
   "execution_count": 159,
   "id": "fa862917",
   "metadata": {},
   "outputs": [
    {
     "data": {
      "text/plain": [
       "['SELECT?obj WHERE { wd:George_Black p:occupation?s.?s ps:occupation?obj.?s pq:highlight_moment wd:occupation }']"
      ]
     },
     "execution_count": 159,
     "metadata": {},
     "output_type": "execute_result"
    }
   ],
   "source": [
    "model.predict(\n",
    "    \"哪个职业是乔治布莱尔的人生巅峰? * {'occupation': '职业'}|{'highlight moment': '高光时刻'}｜{'George Black': '乔治布莱克'}\"\n",
    ")"
   ]
  },
  {
   "cell_type": "code",
   "execution_count": 160,
   "id": "52d28813",
   "metadata": {},
   "outputs": [
    {
     "data": {
      "text/plain": [
       "['select distinct?obj where { wd:Black wdt:moment?obj.?obj wdt:not_a_type_but_is_instance wd:status }']"
      ]
     },
     "execution_count": 160,
     "metadata": {},
     "output_type": "execute_result"
    }
   ],
   "source": [
    "model.predict(\n",
    "    \"哪个职业是乔治布莱尔的人生巅峰? * {'status': '身份'}|{'moment': '时刻'}｜{'Black': '布莱克'}\"\n",
    ")"
   ]
  },
  {
   "cell_type": "code",
   "execution_count": 161,
   "id": "2a62c15d",
   "metadata": {},
   "outputs": [
    {
     "data": {
      "text/plain": [
       "['select distinct?obj where { wd:布莱克 wdt:时刻?obj.?obj wdt:not_a_type_but_is_instance wd:身份 }']"
      ]
     },
     "execution_count": 161,
     "metadata": {},
     "output_type": "execute_result"
    }
   ],
   "source": [
    "model.predict(\n",
    "    \"哪个职业是乔治布莱尔的人生巅峰? * {'身份': '身份'}|{'时刻': '时刻'}｜{'布莱克': '布莱克'}\"\n",
    ")"
   ]
  },
  {
   "cell_type": "code",
   "execution_count": null,
   "id": "7682083c",
   "metadata": {},
   "outputs": [],
   "source": [
    "model.predict(\n",
    "    \"哪个职业是乔治布莱尔的人生巅峰? * {'身份': '身份'}|{'时刻': '时刻'}｜{'布莱克': '布莱克'}\"\n",
    ")"
   ]
  }
 ],
 "metadata": {
  "kernelspec": {
   "display_name": "base",
   "language": "python",
   "name": "base"
  },
  "language_info": {
   "codemirror_mode": {
    "name": "ipython",
    "version": 3
   },
   "file_extension": ".py",
   "mimetype": "text/x-python",
   "name": "python",
   "nbconvert_exporter": "python",
   "pygments_lexer": "ipython3",
   "version": "3.8.8"
  }
 },
 "nbformat": 4,
 "nbformat_minor": 5
}
