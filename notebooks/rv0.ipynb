{
 "cells": [
  {
   "cell_type": "code",
   "execution_count": 1,
   "id": "a99f95f8",
   "metadata": {},
   "outputs": [],
   "source": [
    "import requests\n",
    "import json \n",
    "req = requests.post(\n",
    "    url = \"http://localhost:8855/kbqa\",\n",
    "    data = {\n",
    "        \"question\": \"指环王的作者是谁？\"\n",
    "    }\n",
    ")\n",
    "req = json.loads(req.content.decode())"
   ]
  },
  {
   "cell_type": "code",
   "execution_count": 2,
   "id": "48aca432",
   "metadata": {},
   "outputs": [
    {
     "data": {
      "text/plain": [
       "{'output': [\"[['J·R·R·托尔金', 'J·R·R·托爾金', 'J·R·R·託爾金', '托尔金', '托爾金', '約翰·羅納德·瑞爾·托爾金', '約翰·羅納德·瑞爾·託爾金', '约翰·罗纳德·瑞尔·托尔金']]\",\n",
       "  \"[['溫紐特影片公司'], ['新線影業']]\",\n",
       "  \"[['彼得·杰克逊', 'Peter Jackson', '彼得·傑克森', '彼得·積遜', '彼德·積遜'], ['法蘭·華許', '法蘭·沃許', '法蘭·華爾絲'], ['巴利·奧斯朋'], ['索尔·扎恩兹']]\",\n",
       "  \"[['鮑伯·溫斯坦', '鮑伯·韋恩史坦', '鮑勃·溫斯坦'], ['哈維·溫斯坦']]\",\n",
       "  \"[['J·R·R·托尔金', 'J·R·R·托爾金', 'J·R·R·託爾金', '托尔金', '托爾金', '約翰·羅納德·瑞爾·托爾金', '約翰·羅納德·瑞爾·託爾金', '约翰·罗纳德·瑞尔·托尔金'], ['彼得·杰克逊', 'Peter Jackson', '彼得·傑克森', '彼得·積遜', '彼德·積遜'], ['法蘭·華許', '法蘭·沃許', '法蘭·華爾絲'], ['菲利帕·柏恩斯', '菲力比亞·保恩斯'], ['彼得·伯格']]\",\n",
       "  \"[['彼得·杰克逊', 'Peter Jackson', '彼得·傑克森', '彼得·積遜', '彼德·積遜'], ['拉爾夫·巴克希']]\",\n",
       "  \"[['劇場版'], ['長篇小說', '小說', '小说', '长篇小说'], ['推想小說', 'Fantastique', '推測小說'], ['严肃奇幻', '主流奇幻', '史詩奇幻', '嚴肅奇幻'], ['動作片', '动作片', '動作喜劇片', '動作電影', '武打电影'], ['奇幻电影', '奇幻片'], ['冒险小说'], ['冒险电影'], ['劇情片']]\",\n",
       "  \"[['霍华德·肖', 'Howard Shore', '霍華·蕭'], ['倫納德·羅森曼']]\"]}"
      ]
     },
     "execution_count": 2,
     "metadata": {},
     "output_type": "execute_result"
    }
   ],
   "source": [
    "req"
   ]
  },
  {
   "cell_type": "code",
   "execution_count": null,
   "id": "3fa6cdf3",
   "metadata": {},
   "outputs": [],
   "source": []
  }
 ],
 "metadata": {
  "kernelspec": {
   "display_name": "Python 3 (ipykernel)",
   "language": "python",
   "name": "python3"
  },
  "language_info": {
   "codemirror_mode": {
    "name": "ipython",
    "version": 3
   },
   "file_extension": ".py",
   "mimetype": "text/x-python",
   "name": "python",
   "nbconvert_exporter": "python",
   "pygments_lexer": "ipython3",
   "version": "3.9.7"
  }
 },
 "nbformat": 4,
 "nbformat_minor": 5
}
